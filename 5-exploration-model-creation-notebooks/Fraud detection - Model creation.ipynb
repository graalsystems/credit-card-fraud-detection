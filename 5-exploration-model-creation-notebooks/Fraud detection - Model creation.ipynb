{
 "cells": [
  {
   "cell_type": "markdown",
   "id": "537e59b2-491f-4099-8e16-3e5cd728f8f2",
   "metadata": {},
   "source": [
    "# PMU Fraud detection - Model creation\n",
    "\n",
    "The aim is to be able to detect fraudulent online transactions. For this purpose, we have a partitioned file containing information about transactions (location, IP, validity, ...).\n",
    "\n",
    "Last update : 2023-09-14"
   ]
  },
  {
   "cell_type": "code",
   "execution_count": 1,
   "id": "e5b33c26-9970-4e02-a0ac-c43da7bb5cef",
   "metadata": {
    "tags": []
   },
   "outputs": [],
   "source": [
    "!pip install -r requirements.txt -q"
   ]
  },
  {
   "cell_type": "code",
   "execution_count": 2,
   "id": "575f7da3-1c84-4289-a530-af34e276484a",
   "metadata": {
    "tags": []
   },
   "outputs": [],
   "source": [
    "import s3fs\n",
    "import joblib\n",
    "import json\n",
    "import warnings\n",
    "import pandas as pd\n",
    "from imblearn.over_sampling import ADASYN\n",
    "\n",
    "from sklearn.compose import ColumnTransformer\n",
    "from sklearn.pipeline import Pipeline\n",
    "from sklearn.ensemble import RandomForestClassifier\n",
    "from sklearn.model_selection import train_test_split\n",
    "from sklearn.metrics import accuracy_score, classification_report\n",
    "from sklearn.preprocessing import OneHotEncoder, StandardScaler"
   ]
  },
  {
   "cell_type": "code",
   "execution_count": 3,
   "id": "c9098232-55e1-4b13-a969-ca33efcd4b32",
   "metadata": {
    "tags": []
   },
   "outputs": [],
   "source": [
    "# config\n",
    "pd.set_option('display.max_rows', 500)\n",
    "pd.set_option('display.max_columns', 500)\n",
    "pd.set_option('display.width', 1000)\n",
    "\n",
    "# to ignore warnings\n",
    "warnings.filterwarnings('ignore')"
   ]
  },
  {
   "cell_type": "markdown",
   "id": "75c54e7f-9685-4599-87c5-feebe68f7dd3",
   "metadata": {},
   "source": [
    "First, we start by reading the file containing the information about the transactions."
   ]
  },
  {
   "cell_type": "code",
   "execution_count": 4,
   "id": "c74f7e82-8154-4354-9939-2aac729e9ea8",
   "metadata": {
    "tags": []
   },
   "outputs": [
    {
     "name": "stdout",
     "output_type": "stream",
     "text": [
      "Dim: (1215, 11)\n",
      "\n",
      "Generic information:\n",
      "<class 'pandas.core.frame.DataFrame'>\n",
      "RangeIndex: 1215 entries, 0 to 1214\n",
      "Data columns (total 11 columns):\n",
      " #   Column                Non-Null Count  Dtype \n",
      "---  ------                --------------  ----- \n",
      " 0   CN                    1215 non-null   Int64 \n",
      " 1   date                  1215 non-null   object\n",
      " 2   amount                1215 non-null   Int64 \n",
      " 3   ip                    1215 non-null   object\n",
      " 4   ip_range              1215 non-null   object\n",
      " 5   is_valid              1215 non-null   bool  \n",
      " 6   provider              1215 non-null   object\n",
      " 7   country_name          1215 non-null   object\n",
      " 8   continent_code        564 non-null    object\n",
      " 9   continent_name        1215 non-null   object\n",
      " 10  is_in_european_union  1215 non-null   Int64 \n",
      "dtypes: Int64(3), bool(1), object(7)\n",
      "memory usage: 99.8+ KB\n",
      "\n",
      "\n",
      "Object columns statistics:\n",
      "              date             ip    ip_range  provider   country_name continent_code continent_name\n",
      "count         1215           1215        1215      1215           1215            564           1215\n",
      "unique         388            852         766        12             71              5              6\n",
      "top     2022-07-22  52.169.64.209  28.0.0.0/7  SaferVPN  United States             EU  North America\n",
      "freq            21              9          81       127            619            251            651\n",
      "\n",
      "\n",
      "5 first lines\n"
     ]
    },
    {
     "data": {
      "text/html": [
       "<div>\n",
       "<style scoped>\n",
       "    .dataframe tbody tr th:only-of-type {\n",
       "        vertical-align: middle;\n",
       "    }\n",
       "\n",
       "    .dataframe tbody tr th {\n",
       "        vertical-align: top;\n",
       "    }\n",
       "\n",
       "    .dataframe thead th {\n",
       "        text-align: right;\n",
       "    }\n",
       "</style>\n",
       "<table border=\"1\" class=\"dataframe\">\n",
       "  <thead>\n",
       "    <tr style=\"text-align: right;\">\n",
       "      <th></th>\n",
       "      <th>CN</th>\n",
       "      <th>date</th>\n",
       "      <th>amount</th>\n",
       "      <th>ip</th>\n",
       "      <th>ip_range</th>\n",
       "      <th>is_valid</th>\n",
       "      <th>provider</th>\n",
       "      <th>country_name</th>\n",
       "      <th>continent_code</th>\n",
       "      <th>continent_name</th>\n",
       "      <th>is_in_european_union</th>\n",
       "    </tr>\n",
       "  </thead>\n",
       "  <tbody>\n",
       "    <tr>\n",
       "      <th>0</th>\n",
       "      <td>30001034549321</td>\n",
       "      <td>2022-02-01</td>\n",
       "      <td>13595</td>\n",
       "      <td>6.200.204.63</td>\n",
       "      <td>6.0.0.0/8</td>\n",
       "      <td>True</td>\n",
       "      <td>ExpressVPN</td>\n",
       "      <td>United States</td>\n",
       "      <td>None</td>\n",
       "      <td>North America</td>\n",
       "      <td>0</td>\n",
       "    </tr>\n",
       "    <tr>\n",
       "      <th>1</th>\n",
       "      <td>30001034549321</td>\n",
       "      <td>2022-02-01</td>\n",
       "      <td>13595</td>\n",
       "      <td>6.200.204.63</td>\n",
       "      <td>6.0.0.0/8</td>\n",
       "      <td>True</td>\n",
       "      <td>KeepSolid VPN Unlimited</td>\n",
       "      <td>United States</td>\n",
       "      <td>None</td>\n",
       "      <td>North America</td>\n",
       "      <td>0</td>\n",
       "    </tr>\n",
       "    <tr>\n",
       "      <th>2</th>\n",
       "      <td>30001034549321</td>\n",
       "      <td>2022-02-01</td>\n",
       "      <td>13595</td>\n",
       "      <td>6.200.204.63</td>\n",
       "      <td>6.0.0.0/8</td>\n",
       "      <td>True</td>\n",
       "      <td>PureVPN</td>\n",
       "      <td>United States</td>\n",
       "      <td>None</td>\n",
       "      <td>North America</td>\n",
       "      <td>0</td>\n",
       "    </tr>\n",
       "    <tr>\n",
       "      <th>3</th>\n",
       "      <td>30001034549321</td>\n",
       "      <td>2022-02-01</td>\n",
       "      <td>13595</td>\n",
       "      <td>6.200.204.63</td>\n",
       "      <td>6.0.0.0/8</td>\n",
       "      <td>True</td>\n",
       "      <td>SaferVPN</td>\n",
       "      <td>United States</td>\n",
       "      <td>None</td>\n",
       "      <td>North America</td>\n",
       "      <td>0</td>\n",
       "    </tr>\n",
       "    <tr>\n",
       "      <th>4</th>\n",
       "      <td>30001034549321</td>\n",
       "      <td>2022-02-01</td>\n",
       "      <td>13595</td>\n",
       "      <td>6.200.204.63</td>\n",
       "      <td>6.0.0.0/8</td>\n",
       "      <td>True</td>\n",
       "      <td>TunnelBear</td>\n",
       "      <td>United States</td>\n",
       "      <td>None</td>\n",
       "      <td>North America</td>\n",
       "      <td>0</td>\n",
       "    </tr>\n",
       "  </tbody>\n",
       "</table>\n",
       "</div>"
      ],
      "text/plain": [
       "               CN        date  amount            ip   ip_range  is_valid                 provider   country_name continent_code continent_name  is_in_european_union\n",
       "0  30001034549321  2022-02-01   13595  6.200.204.63  6.0.0.0/8      True               ExpressVPN  United States           None  North America                     0\n",
       "1  30001034549321  2022-02-01   13595  6.200.204.63  6.0.0.0/8      True  KeepSolid VPN Unlimited  United States           None  North America                     0\n",
       "2  30001034549321  2022-02-01   13595  6.200.204.63  6.0.0.0/8      True                  PureVPN  United States           None  North America                     0\n",
       "3  30001034549321  2022-02-01   13595  6.200.204.63  6.0.0.0/8      True                 SaferVPN  United States           None  North America                     0\n",
       "4  30001034549321  2022-02-01   13595  6.200.204.63  6.0.0.0/8      True               TunnelBear  United States           None  North America                     0"
      ]
     },
     "execution_count": 4,
     "metadata": {},
     "output_type": "execute_result"
    }
   ],
   "source": [
    "df_fraud = pd.read_parquet(\n",
    "    \"s3a://graal-demo-data-integration/output/fraud.parquet\",\n",
    "    storage_options={\n",
    "        \"key\": \"REPLACE_BY_BUCKET_KEY\",\n",
    "        \"secret\": \"REPLACE_BY_BUCKET_SECRET\",\n",
    "        \"client_kwargs\": {\n",
    "            \"endpoint_url\": \"https://s3.fr-par.scw.cloud\",\n",
    "            \"region_name\": \"fr-par\",\n",
    "        },\n",
    "    },\n",
    ")\n",
    "\n",
    "print(f'Dim: {df_fraud.shape}\\n\\nGeneric information:')\n",
    "df_fraud.info()\n",
    "print(\"\\n\\nObject columns statistics:\")\n",
    "print(df_fraud.describe(include=['object']))\n",
    "print('\\n\\n5 first lines')\n",
    "df_fraud.head(5)"
   ]
  },
  {
   "cell_type": "markdown",
   "id": "e0bcddfc-ce0a-47fd-91ee-ce85009c5092",
   "metadata": {},
   "source": [
    "This file describe the transactions on various topics such as internet information (IP, IP range, provider), banking information (card number, amount) and geographic information (country name, continent code, continent name). Most of the columns are strings so data pre-processing is necessary."
   ]
  },
  {
   "cell_type": "markdown",
   "id": "bc229193-4cce-45e8-9358-9ed8d4e5b508",
   "metadata": {
    "tags": []
   },
   "source": [
    "## Data pre-processing\n",
    "\n",
    "The continent code does not give more information than the continent name so we will drop this column."
   ]
  },
  {
   "cell_type": "code",
   "execution_count": 5,
   "id": "12c1616b-4b8f-4176-95b4-ca5071ec94c2",
   "metadata": {
    "tags": []
   },
   "outputs": [
    {
     "data": {
      "text/html": [
       "<div>\n",
       "<style scoped>\n",
       "    .dataframe tbody tr th:only-of-type {\n",
       "        vertical-align: middle;\n",
       "    }\n",
       "\n",
       "    .dataframe tbody tr th {\n",
       "        vertical-align: top;\n",
       "    }\n",
       "\n",
       "    .dataframe thead th {\n",
       "        text-align: right;\n",
       "    }\n",
       "</style>\n",
       "<table border=\"1\" class=\"dataframe\">\n",
       "  <thead>\n",
       "    <tr style=\"text-align: right;\">\n",
       "      <th></th>\n",
       "      <th>amount</th>\n",
       "      <th>is_valid</th>\n",
       "      <th>provider</th>\n",
       "      <th>country_name</th>\n",
       "      <th>continent_name</th>\n",
       "      <th>is_in_european_union</th>\n",
       "    </tr>\n",
       "  </thead>\n",
       "  <tbody>\n",
       "    <tr>\n",
       "      <th>0</th>\n",
       "      <td>13595</td>\n",
       "      <td>True</td>\n",
       "      <td>ExpressVPN</td>\n",
       "      <td>United States</td>\n",
       "      <td>North America</td>\n",
       "      <td>0</td>\n",
       "    </tr>\n",
       "    <tr>\n",
       "      <th>1</th>\n",
       "      <td>13595</td>\n",
       "      <td>True</td>\n",
       "      <td>KeepSolid VPN Unlimited</td>\n",
       "      <td>United States</td>\n",
       "      <td>North America</td>\n",
       "      <td>0</td>\n",
       "    </tr>\n",
       "    <tr>\n",
       "      <th>2</th>\n",
       "      <td>13595</td>\n",
       "      <td>True</td>\n",
       "      <td>PureVPN</td>\n",
       "      <td>United States</td>\n",
       "      <td>North America</td>\n",
       "      <td>0</td>\n",
       "    </tr>\n",
       "    <tr>\n",
       "      <th>3</th>\n",
       "      <td>13595</td>\n",
       "      <td>True</td>\n",
       "      <td>SaferVPN</td>\n",
       "      <td>United States</td>\n",
       "      <td>North America</td>\n",
       "      <td>0</td>\n",
       "    </tr>\n",
       "    <tr>\n",
       "      <th>4</th>\n",
       "      <td>13595</td>\n",
       "      <td>True</td>\n",
       "      <td>TunnelBear</td>\n",
       "      <td>United States</td>\n",
       "      <td>North America</td>\n",
       "      <td>0</td>\n",
       "    </tr>\n",
       "  </tbody>\n",
       "</table>\n",
       "</div>"
      ],
      "text/plain": [
       "   amount  is_valid                 provider   country_name continent_name  is_in_european_union\n",
       "0   13595      True               ExpressVPN  United States  North America                     0\n",
       "1   13595      True  KeepSolid VPN Unlimited  United States  North America                     0\n",
       "2   13595      True                  PureVPN  United States  North America                     0\n",
       "3   13595      True                 SaferVPN  United States  North America                     0\n",
       "4   13595      True               TunnelBear  United States  North America                     0"
      ]
     },
     "execution_count": 5,
     "metadata": {},
     "output_type": "execute_result"
    }
   ],
   "source": [
    "# Drop columns & NA\n",
    "df_fraud = df_fraud.drop([\"CN\", \"date\", \"ip\", \"ip_range\", \"continent_code\"], axis=1) \n",
    "df_fraud.dropna(inplace=True)\n",
    "df_fraud.head()"
   ]
  },
  {
   "cell_type": "markdown",
   "id": "7751148c-63b4-431e-9603-86e6dfcfb9b4",
   "metadata": {},
   "source": [
    "## Model"
   ]
  },
  {
   "cell_type": "code",
   "execution_count": 6,
   "id": "601628f3-1744-44e8-a161-d94b5f9949fc",
   "metadata": {
    "tags": []
   },
   "outputs": [],
   "source": [
    "categorical_features = [\"provider\", \"country_name\", \"continent_name\", \"is_in_european_union\"]\n",
    "numeric_features = [\"amount\"]\n",
    "\n",
    "# Split the dataset & resample\n",
    "X = df_fraud[categorical_features + numeric_features]\n",
    "y = df_fraud['is_valid']\n",
    "\n",
    "# adasyn = ADASYN(sampling_strategy='minority', random_state=42)\n",
    "# X_resampled, y_resampled = adasyn.fit_resample(X, y)\n",
    "# resampled_fraud = pd.DataFrame(X_resampled, columns=X.columns)\n",
    "# print(resampled_fraud.info())\n",
    "\n",
    "X_train, X_test, y_train, y_test = train_test_split(X, y, test_size=0.2, random_state=42)"
   ]
  },
  {
   "cell_type": "code",
   "execution_count": 7,
   "id": "a9ee2f37-1b7a-4d37-b252-9f45a3e6d4db",
   "metadata": {
    "tags": []
   },
   "outputs": [],
   "source": [
    "# Create transformers for Onehot Encoding and Standardisation\n",
    "categorical_transformer = Pipeline(steps=[('onehot', OneHotEncoder(handle_unknown=\"ignore\"))])\n",
    "numeric_transformer = Pipeline(steps=[('scaler', StandardScaler())])\n",
    "\n",
    "# Create a ColumnTransformer object that applies these transformers to the appropriate columns\n",
    "preprocessor = ColumnTransformer(\n",
    "    transformers=[\n",
    "        ('num', numeric_transformer, numeric_features),\n",
    "        ('cat', categorical_transformer, categorical_features)])\n",
    "\n",
    "# Create the pipeline including the preprocessing and the random forest model\n",
    "model = Pipeline(steps=[\n",
    "    ('preprocessor', preprocessor),\n",
    "    ('classifier', RandomForestClassifier(n_estimators=1000, max_depth=3, random_state=42))\n",
    "])"
   ]
  },
  {
   "cell_type": "code",
   "execution_count": 8,
   "id": "a16621bf-5be7-4f8a-b210-41f1a7792e33",
   "metadata": {
    "tags": []
   },
   "outputs": [],
   "source": [
    "# Model training\n",
    "model.fit(X_train, y_train)\n",
    "# Prediction on the test dataset\n",
    "y_pred = model.predict(X_test)"
   ]
  },
  {
   "cell_type": "code",
   "execution_count": 9,
   "id": "4509aa42-0f9a-4356-9ae0-786bd799b84a",
   "metadata": {
    "tags": []
   },
   "outputs": [
    {
     "name": "stdout",
     "output_type": "stream",
     "text": [
      "Model precision: 0.8888888888888888\n",
      "\n",
      "Classification report:\n",
      "               precision    recall  f1-score   support\n",
      "\n",
      "       False       0.00      0.00      0.00        27\n",
      "        True       0.89      1.00      0.94       216\n",
      "\n",
      "    accuracy                           0.89       243\n",
      "   macro avg       0.44      0.50      0.47       243\n",
      "weighted avg       0.79      0.89      0.84       243\n",
      "\n"
     ]
    }
   ],
   "source": [
    "# Evaluate the model\n",
    "accuracy = accuracy_score(y_test, y_pred)\n",
    "print(\"Model precision:\", accuracy)\n",
    "print(\"\\nClassification report:\\n\", classification_report(y_test, y_pred))"
   ]
  },
  {
   "cell_type": "code",
   "execution_count": 10,
   "id": "c9a59a9a-c618-4370-8634-825832cb5bda",
   "metadata": {
    "tags": []
   },
   "outputs": [
    {
     "name": "stdout",
     "output_type": "stream",
     "text": [
      "Model uploaded!\n"
     ]
    }
   ],
   "source": [
    "# Save the model in the joblib to the appropriate bucket\n",
    "folder_name = \"fraud-model\"\n",
    "fs_d69b7172 = s3fs.S3FileSystem(\n",
    "    key=\"REPLACE_BY_BUCKET_KEY\",\n",
    "    secret=\"REPLACE_BY_BUCKET_SECRET\",\n",
    "    client_kwargs={\n",
    "        \"endpoint_url\": \"https://s3.fr-par.scw.cloud\",\n",
    "        \"region_name\": \"fr-par\",\n",
    "    },\n",
    ")\n",
    "joblib.dump(\n",
    "    model,\n",
    "    fs_d69b7172.open(\n",
    "        f\"s3a://graal-demo-data-integration/output/{folder_name}/model.joblib\", \"wb\"\n",
    "    ),\n",
    ")\n",
    "print(\"Model uploaded!\")"
   ]
  },
  {
   "cell_type": "code",
   "execution_count": 11,
   "id": "d9f1e208-6ee5-49a3-b996-6e7aaa6debe1",
   "metadata": {
    "tags": []
   },
   "outputs": [
    {
     "name": "stdout",
     "output_type": "stream",
     "text": [
      "Model settings uploaded!\n"
     ]
    }
   ],
   "source": [
    "settings = {\n",
    "    \"parameters\": {\n",
    "\t\"version\": \"v0.1.0\"\n",
    "    },\n",
    "    \"inputs\": [\n",
    "        {\n",
    "            \"name\": \"amount\",\n",
    "            \"datatype\": \"FP32\",\n",
    "            \"shape\": [1],\n",
    "    \t},\n",
    "        {\n",
    "            \"name\": \"provider\",\n",
    "            \"datatype\": \"BYTES\",\n",
    "            \"shape\": [1],\n",
    "            \"parameters\": {\n",
    "                \"content_type\": \"str\"\n",
    "            }\n",
    "        },\n",
    "        {\n",
    "            \"name\": \"country_name\",\n",
    "            \"datatype\": \"BYTES\",\n",
    "            \"shape\": [1],\n",
    "            \"parameters\": {\n",
    "                \"content_type\": \"str\"\n",
    "            }\n",
    "        },\n",
    "        {\n",
    "            \"name\": \"continent_name\",\n",
    "            \"datatype\": \"BYTES\",\n",
    "            \"shape\": [1],\n",
    "            \"parameters\": {\n",
    "                \"content_type\": \"str\"\n",
    "            }\n",
    "        },\n",
    "        {\n",
    "            \"name\": \"is_in_european_union\",\n",
    "            \"datatype\": \"INT32\",\n",
    "            \"shape\": [1]\n",
    "        }\n",
    "    ],\n",
    "    \"outputs\": [\n",
    "        {\n",
    "            \"name\": \"is_valid\",\n",
    "            \"datatype\": \"BOOL\",\n",
    "            \"shape\": [1]\n",
    "        }\n",
    "    ]\n",
    "}\n",
    "\n",
    "json.dump(\n",
    "    settings,\n",
    "    fs_d69b7172.open(\n",
    "        f\"s3a://graal-demo-data-integration/output/{folder_name}/model-settings.json\", \"w\"\n",
    "    ),\n",
    ")\n",
    "print(\"Model settings uploaded!\")"
   ]
  }
 ],
 "metadata": {
  "kernelspec": {
   "display_name": "Python 3 (ipykernel)",
   "language": "python",
   "name": "python3"
  },
  "language_info": {
   "codemirror_mode": {
    "name": "ipython",
    "version": 3
   },
   "file_extension": ".py",
   "mimetype": "text/x-python",
   "name": "python",
   "nbconvert_exporter": "python",
   "pygments_lexer": "ipython3",
   "version": "3.10.9"
  }
 },
 "nbformat": 4,
 "nbformat_minor": 5
}
